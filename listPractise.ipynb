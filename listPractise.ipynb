{
  "cells": [
    {
      "metadata": {
        "trusted": true
      },
      "cell_type": "code",
      "source": "basket = ['Apple', 'Bun', 'Cola']\ncrate = ['Egg', 'Fig', 'Grape']\nprint('Basket list:', basket)\nprint('Basket elements:', len(basket))",
      "execution_count": 4,
      "outputs": [
        {
          "output_type": "stream",
          "text": "Basket list: ['Apple', 'Bun', 'Cola']\nBasket elements: 3\n",
          "name": "stdout"
        }
      ]
    },
    {
      "metadata": {
        "trusted": true
      },
      "cell_type": "code",
      "source": "basket.append('Damon')\nprint('Appended:', basket)\nprint('Last item removed:', basket.pop())",
      "execution_count": 6,
      "outputs": [
        {
          "output_type": "stream",
          "text": "Appended: ['Apple', 'Bun', 'Cola', 'Damon', 'Damon']\nLast item removed: Damon\n",
          "name": "stdout"
        }
      ]
    },
    {
      "metadata": {
        "trusted": true
      },
      "cell_type": "code",
      "source": "print('Basket list:', basket)",
      "execution_count": 8,
      "outputs": [
        {
          "output_type": "stream",
          "text": "Basket list: ['Apple', 'Bun', 'Cola', 'Damon']\n",
          "name": "stdout"
        }
      ]
    },
    {
      "metadata": {
        "trusted": true
      },
      "cell_type": "code",
      "source": "basket.extend(crate)",
      "execution_count": 9,
      "outputs": []
    },
    {
      "metadata": {
        "trusted": true
      },
      "cell_type": "code",
      "source": "print('Extended:', basket)\ndel basket[1]\nprint('Item removed:', basket)",
      "execution_count": 13,
      "outputs": [
        {
          "output_type": "stream",
          "text": "Extended: ['Apple', 'Cola', 'Damon', 'Egg', 'Fig', 'Grape']\nItem removed: ['Apple', 'Damon', 'Egg', 'Fig', 'Grape']\n",
          "name": "stdout"
        }
      ]
    },
    {
      "metadata": {
        "trusted": true
      },
      "cell_type": "code",
      "source": "del basket[1:3]\nprint('slice removed:', basket)",
      "execution_count": 14,
      "outputs": [
        {
          "output_type": "stream",
          "text": "slice removed: ['Apple', 'Fig', 'Grape']\n",
          "name": "stdout"
        }
      ]
    },
    {
      "metadata": {
        "trusted": true
      },
      "cell_type": "code",
      "source": "zoo = ('Kangaroo', 'Leopard', 'Mouse')\nprint('Tuple:', zoo, '\\tlength:', len(zoo))\nprint(type(zoo))",
      "execution_count": 16,
      "outputs": [
        {
          "output_type": "stream",
          "text": "Tuple: ('Kangaroo', 'Leopard', 'Mouse') \tlength: 3\n<class 'tuple'>\n",
          "name": "stdout"
        }
      ]
    },
    {
      "metadata": {
        "trusted": true
      },
      "cell_type": "code",
      "source": "bag = ('Red', 'Green', 'Blue')\n\nprint('\\nset:', bag, '\\tLength:', len(bag))\nprint(type(bag))",
      "execution_count": 19,
      "outputs": [
        {
          "output_type": "stream",
          "text": "\nset: ('Red', 'Green', 'Blue') \tLength: 3\n<class 'tuple'>\n",
          "name": "stdout"
        }
      ]
    },
    {
      "metadata": {
        "trusted": true
      },
      "cell_type": "code",
      "source": "dict = {'name' : 'Bob', 'ref' : 'Python', 'sys' : 'Win'}\nprint('Dictionary', dict)\nprint('\\nReference:', dict['ref'])",
      "execution_count": 21,
      "outputs": [
        {
          "output_type": "stream",
          "text": "Dictionary {'name': 'Bob', 'ref': 'Python', 'sys': 'Win'}\n\nReference: Python\n",
          "name": "stdout"
        }
      ]
    },
    {
      "metadata": {
        "trusted": true
      },
      "cell_type": "code",
      "source": "print('\\nKeys:', dict.keys())",
      "execution_count": 22,
      "outputs": [
        {
          "output_type": "stream",
          "text": "\nKeys: dict_keys(['name', 'ref', 'sys'])\n",
          "name": "stdout"
        }
      ]
    },
    {
      "metadata": {
        "trusted": true
      },
      "cell_type": "code",
      "source": "del dict['name']",
      "execution_count": 23,
      "outputs": []
    },
    {
      "metadata": {
        "trusted": true
      },
      "cell_type": "code",
      "source": "dict['user']='Tom'",
      "execution_count": 24,
      "outputs": []
    },
    {
      "metadata": {
        "trusted": true
      },
      "cell_type": "code",
      "source": "print('\\nDictionary:', dict)",
      "execution_count": 25,
      "outputs": [
        {
          "output_type": "stream",
          "text": "\nDictionary: {'ref': 'Python', 'sys': 'Win', 'user': 'Tom'}\n",
          "name": "stdout"
        }
      ]
    },
    {
      "metadata": {
        "trusted": true
      },
      "cell_type": "code",
      "source": "print('\\nIs there a name key?', 'name' in dict)",
      "execution_count": 26,
      "outputs": [
        {
          "output_type": "stream",
          "text": "\nIs there a name key? False\n",
          "name": "stdout"
        }
      ]
    },
    {
      "metadata": {
        "trusted": true
      },
      "cell_type": "code",
      "source": "num = int(input('Please enter a number:'))\nif num > 5:\n    print('Number exceeds 5')\nelif num < 5:\n    print('Number is less than 5')\nelse :\n    print('Number is 5')",
      "execution_count": 28,
      "outputs": [
        {
          "output_type": "stream",
          "name": "stdout",
          "text": "Please enter a number:5\nNumber is 5\n"
        }
      ]
    },
    {
      "metadata": {
        "trusted": true
      },
      "cell_type": "code",
      "source": "i = 1\nwhile i < 4: \n    print('\\nOuter loop iteration:', i)\n    i += 1\n",
      "execution_count": 29,
      "outputs": [
        {
          "output_type": "stream",
          "text": "\nOuter loop iteration: 1\n\nOuter loop iteration: 2\n\nOuter loop iteration: 3\n",
          "name": "stdout"
        }
      ]
    },
    {
      "metadata": {
        "trusted": true
      },
      "cell_type": "code",
      "source": "j = 1\nwhile j < 4:\n    print('\\nInner Loop Iteration:', j)\n    j += 1\n",
      "execution_count": 30,
      "outputs": [
        {
          "output_type": "stream",
          "text": "\nInner Loop Iteration: 1\n\nInner Loop Iteration: 2\n\nInner Loop Iteration: 3\n",
          "name": "stdout"
        }
      ]
    },
    {
      "metadata": {
        "trusted": true
      },
      "cell_type": "code",
      "source": "chars = ['A', 'B', 'C']\nfruit = ('Apple', 'Banana', 'Cherry')\ndict = {'name' : 'Mike', 'ref' : 'Python', 'sys' : 'Win'}",
      "execution_count": 31,
      "outputs": []
    },
    {
      "metadata": {
        "trusted": true
      },
      "cell_type": "code",
      "source": "print('\\nElements:\\t', end = '')\nfor item in chars:\n    print(item, end = '')\nprint('\\nEnumerated:\\t', end = '')\nfor item in enumerate(chars):\n    print(item, end = '')\nprint('\\nZipped:\\t', end = '')\nfor item in zip(chars, fruit):\n    print(item, end = '')\nprint('\\nPaired:')\nfor key, value in dict.items():\n    print(key, '=', value)",
      "execution_count": 35,
      "outputs": [
        {
          "output_type": "stream",
          "text": "\nElements:\tABC\nEnumerated:\t(0, 'A')(1, 'B')(2, 'C')\nZipped:\t('A', 'Apple')('B', 'Banana')('C', 'Cherry')\nPaired:\nname = Mike\nref = Python\nsys = Win\n",
          "name": "stdout"
        }
      ]
    },
    {
      "metadata": {
        "trusted": true
      },
      "cell_type": "code",
      "source": "for i in range(1,4):\n    for j in range(1,4):\n        print('Running i =' + str(i) + ' j =' + str(j))\n        if i == 2 and j == 1:\n            print('Breaks inner loop at i = 2 j = 1')\n            break",
      "execution_count": 39,
      "outputs": [
        {
          "output_type": "stream",
          "text": "Running i =1 j =1\nRunning i =1 j =2\nRunning i =1 j =3\nRunning i =2 j =1\nBreaks inner loop at i = 2 j = 1\nRunning i =3 j =1\nRunning i =3 j =2\nRunning i =3 j =3\n",
          "name": "stdout"
        }
      ]
    },
    {
      "metadata": {
        "trusted": true
      },
      "cell_type": "code",
      "source": "",
      "execution_count": null,
      "outputs": []
    }
  ],
  "metadata": {
    "kernelspec": {
      "name": "python36",
      "display_name": "Python 3.6",
      "language": "python"
    },
    "language_info": {
      "mimetype": "text/x-python",
      "nbconvert_exporter": "python",
      "name": "python",
      "pygments_lexer": "ipython3",
      "version": "3.6.6",
      "file_extension": ".py",
      "codemirror_mode": {
        "version": 3,
        "name": "ipython"
      }
    }
  },
  "nbformat": 4,
  "nbformat_minor": 2
}